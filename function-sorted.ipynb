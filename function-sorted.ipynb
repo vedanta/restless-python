{
 "cells": [
  {
   "cell_type": "markdown",
   "id": "0a24fe23",
   "metadata": {},
   "source": [
    "# Description\n",
    "\n",
    "Learn Python's sorted() function through pop culture examples, from simple to advanced levels."
   ]
  },
  {
   "cell_type": "markdown",
   "id": "ae28ee0d",
   "metadata": {},
   "source": [
    "Python sorted() Function: From Simple to Advanced\n",
    "\n",
    "Let's dive into Python's sorted() function with fun examples inspired by pop culture, music, movies, and more!\n"
   ]
  },
  {
   "cell_type": "markdown",
   "id": "28bb4c43",
   "metadata": {},
   "source": [
    "Very Simple Examples\n"
   ]
  },
  {
   "cell_type": "markdown",
   "id": "0fbcbfe6",
   "metadata": {},
   "source": [
    "1. Sorting Hogwarts Houses\n"
   ]
  },
  {
   "cell_type": "code",
   "execution_count": null,
   "id": "a1aa7a2a",
   "metadata": {},
   "outputs": [],
   "source": [
    "# Sort Hogwarts houses alphabetically\n",
    "hogwarts_houses = [\"Gryffindor\", \"Slytherin\", \"Hufflepuff\", \"Ravenclaw\"]\n",
    "sorted_houses = sorted(hogwarts_houses)\n",
    "\n",
    "print(\"Original order:\", hogwarts_houses)\n",
    "print(\"Sorted order:\", sorted_houses)\n",
    "\n",
    "# This example demonstrates basic sorting of strings.\n",
    "# The sorted() function returns a new sorted list, leaving the original list unchanged.\n"
   ]
  },
  {
   "cell_type": "markdown",
   "id": "e4cee094",
   "metadata": {},
   "source": [
    "2. Ranking Superhero Powers\n"
   ]
  },
  {
   "cell_type": "code",
   "execution_count": null,
   "id": "0dd91e31",
   "metadata": {},
   "outputs": [],
   "source": [
    "# Sort superheroes by their power level\n",
    "power_levels = [85, 100, 92, 78, 95]\n",
    "sorted_powers = sorted(power_levels, reverse=True)\n",
    "\n",
    "print(\"Original power levels:\", power_levels)\n",
    "print(\"Sorted power levels (highest to lowest):\", sorted_powers)\n",
    "\n",
    "# Here we sort numbers in descending order using the 'reverse' parameter.\n",
    "# This is useful for creating rankings or leaderboards.\n"
   ]
  },
  {
   "cell_type": "markdown",
   "id": "1ac89c19",
   "metadata": {},
   "source": [
    "3. Organizing Pokémon by Name Length\n"
   ]
  },
  {
   "cell_type": "code",
   "execution_count": null,
   "id": "5b152fc6",
   "metadata": {},
   "outputs": [],
   "source": [
    "# Sort Pokémon names by their length\n",
    "pokemon = [\"Pikachu\", \"Charizard\", \"Mew\", \"Gyarados\", \"Snorlax\"]\n",
    "sorted_pokemon = sorted(pokemon, key=len)\n",
    "\n",
    "print(\"Original Pokémon list:\", pokemon)\n",
    "print(\"Sorted by name length:\", sorted_pokemon)\n",
    "\n",
    "# This example introduces the 'key' parameter, using the len function.\n",
    "# It sorts the list based on the length of each string.\n"
   ]
  },
  {
   "cell_type": "markdown",
   "id": "e46863c3",
   "metadata": {},
   "source": [
    "Simple Examples\n"
   ]
  },
  {
   "cell_type": "markdown",
   "id": "1a283e7f",
   "metadata": {},
   "source": [
    "1. Sorting Star Wars Episodes\n"
   ]
  },
  {
   "cell_type": "code",
   "execution_count": null,
   "id": "fc672b52",
   "metadata": {},
   "outputs": [],
   "source": [
    "# Sort Star Wars movies by episode number\n",
    "star_wars_movies = [\n",
    "    (\"The Phantom Menace\", 1),\n",
    "    (\"A New Hope\", 4),\n",
    "    (\"The Empire Strikes Back\", 5),\n",
    "    (\"Attack of the Clones\", 2),\n",
    "    (\"Return of the Jedi\", 6),\n",
    "    (\"Revenge of the Sith\", 3)\n",
    "]\n",
    "\n",
    "sorted_movies = sorted(star_wars_movies, key=lambda x: x[1])\n",
    "\n",
    "print(\"Sorted Star Wars movies:\")\n",
    "for movie, episode in sorted_movies:\n",
    "    print(f\"Episode {episode}: {movie}\")\n",
    "\n",
    "# This example sorts a list of tuples based on the episode number.\n",
    "# We use a lambda function as the 'key' to specify which element to sort by.\n"
   ]
  },
  {
   "cell_type": "markdown",
   "id": "67e07feb",
   "metadata": {},
   "source": [
    "2. Ranking Marvel Superheroes\n"
   ]
  },
  {
   "cell_type": "code",
   "execution_count": null,
   "id": "aa1fa501",
   "metadata": {},
   "outputs": [],
   "source": [
    "# Rank Marvel superheroes by power level\n",
    "heroes = [\n",
    "    {\"name\": \"Iron Man\", \"power\": 85},\n",
    "    {\"name\": \"Thor\", \"power\": 95},\n",
    "    {\"name\": \"Black Widow\", \"power\": 75},\n",
    "    {\"name\": \"Hulk\", \"power\": 92},\n",
    "    {\"name\": \"Captain America\", \"power\": 88}\n",
    "]\n",
    "\n",
    "sorted_heroes = sorted(heroes, key=lambda x: x[\"power\"], reverse=True)\n",
    "\n",
    "print(\"Ranked Marvel Superheroes:\")\n",
    "for hero in sorted_heroes:\n",
    "    print(f\"{hero['name']}: Power level {hero['power']}\")\n",
    "\n",
    "# Here we sort a list of dictionaries based on the 'power' key.\n",
    "# The lambda function extracts the 'power' value for sorting.\n"
   ]
  },
  {
   "cell_type": "markdown",
   "id": "41df94b3",
   "metadata": {},
   "source": [
    "3. Sorting Harry Potter Spells\n"
   ]
  },
  {
   "cell_type": "code",
   "execution_count": null,
   "id": "524b44cb",
   "metadata": {},
   "outputs": [],
   "source": [
    "# Sort Harry Potter spells by name and difficulty\n",
    "spells = [\n",
    "    (\"Expelliarmus\", 3),\n",
    "    (\"Lumos\", 1),\n",
    "    (\"Avada Kedavra\", 5),\n",
    "    (\"Wingardium Leviosa\", 2),\n",
    "    (\"Accio\", 3)\n",
    "]\n",
    "\n",
    "sorted_spells = sorted(spells, key=lambda x: (x[1], x[0]))\n",
    "\n",
    "print(\"Sorted Harry Potter Spells (by difficulty, then alphabetically):\")\n",
    "for spell, difficulty in sorted_spells:\n",
    "    print(f\"{spell} - Difficulty: {difficulty}\")\n",
    "\n",
    "# This example demonstrates sorting with multiple criteria.\n",
    "# We sort first by difficulty, then alphabetically by spell name.\n"
   ]
  },
  {
   "cell_type": "markdown",
   "id": "fc743c3a",
   "metadata": {},
   "source": [
    "Intermediate Examples\n"
   ]
  },
  {
   "cell_type": "markdown",
   "id": "85db8a9d",
   "metadata": {},
   "source": [
    "1. Sorting Lord of the Rings Characters\n"
   ]
  },
  {
   "cell_type": "code",
   "execution_count": null,
   "id": "814e7186",
   "metadata": {},
   "outputs": [],
   "source": [
    "from operator import itemgetter\n",
    "\n",
    "# Sort LOTR characters by race and then age\n",
    "characters = [\n",
    "    (\"Frodo\", \"Hobbit\", 50),\n",
    "    (\"Aragorn\", \"Man\", 87),\n",
    "    (\"Legolas\", \"Elf\", 2931),\n",
    "    (\"Gimli\", \"Dwarf\", 139),\n",
    "    (\"Pippin\", \"Hobbit\", 28),\n",
    "    (\"Boromir\", \"Man\", 41)\n",
    "]\n",
    "\n",
    "sorted_characters = sorted(characters, key=itemgetter(1, 2))\n",
    "\n",
    "print(\"Sorted Lord of the Rings Characters:\")\n",
    "for name, race, age in sorted_characters:\n",
    "    print(f\"{name}: {race}, {age} years old\")\n",
    "\n",
    "# This example introduces the itemgetter function for more efficient sorting.\n",
    "# We sort first by race, then by age within each race.\n"
   ]
  },
  {
   "cell_type": "markdown",
   "id": "3b3739ec",
   "metadata": {},
   "source": [
    "2. Organizing a Spotify Playlist\n"
   ]
  },
  {
   "cell_type": "code",
   "execution_count": null,
   "id": "d7756d40",
   "metadata": {},
   "outputs": [],
   "source": [
    "from datetime import datetime\n",
    "\n",
    "# Sort a Spotify playlist by release year and song length\n",
    "playlist = [\n",
    "    {\"title\": \"Bohemian Rhapsody\", \"artist\": \"Queen\", \"year\": 1975, \"length\": 355},\n",
    "    {\"title\": \"Billie Jean\", \"artist\": \"Michael Jackson\", \"year\": 1983, \"length\": 294},\n",
    "    {\"title\": \"Smells Like Teen Spirit\", \"artist\": \"Nirvana\", \"year\": 1991, \"length\": 301},\n",
    "    {\"title\": \"Like a Rolling Stone\", \"artist\": \"Bob Dylan\", \"year\": 1965, \"length\": 373},\n",
    "    {\"title\": \"Purple Rain\", \"artist\": \"Prince\", \"year\": 1984, \"length\": 520}\n",
    "]\n",
    "\n",
    "sorted_playlist = sorted(playlist, key=lambda x: (x[\"year\"], x[\"length\"]))\n",
    "\n",
    "print(\"Sorted Spotify Playlist:\")\n",
    "for song in sorted_playlist:\n",
    "    length = datetime.utcfromtimestamp(song[\"length\"]).strftime(\"%M:%S\")\n",
    "    print(f\"{song['title']} by {song['artist']} ({song['year']}) - {length}\")\n",
    "\n",
    "# This example sorts a list of dictionaries by multiple criteria.\n",
    "# We sort first by release year, then by song length.\n",
    "# We also demonstrate formatting the song length as minutes:seconds.\n"
   ]
  },
  {
   "cell_type": "markdown",
   "id": "347c6b17",
   "metadata": {},
   "source": [
    "3. Ranking Sci-Fi Franchises\n"
   ]
  },
  {
   "cell_type": "code",
   "execution_count": null,
   "id": "6d82da08",
   "metadata": {},
   "outputs": [],
   "source": [
    "# Rank sci-fi franchises by fan rating and box office earnings\n",
    "franchises = [\n",
    "    (\"Star Wars\", 4.8, 10000),\n",
    "    (\"Star Trek\", 4.5, 8000),\n",
    "    (\"Doctor Who\", 4.6, 6000),\n",
    "    (\"Battlestar Galactica\", 4.7, 5000),\n",
    "    (\"The Matrix\", 4.4, 7000)\n",
    "]\n",
    "\n",
    "# Custom sorting function\n",
    "def franchise_rank(franchise):\n",
    "    name, rating, earnings = franchise\n",
    "    return (-rating, -earnings)  # Negative for descending order\n",
    "\n",
    "sorted_franchises = sorted(franchises, key=franchise_rank)\n",
    "\n",
    "print(\"Ranked Sci-Fi Franchises:\")\n",
    "for i, (name, rating, earnings) in enumerate(sorted_franchises, 1):\n",
    "    print(f\"{i}. {name} - Rating: {rating}, Box Office: ${earnings}M\")\n",
    "\n",
    "# This example uses a custom function for complex sorting criteria.\n",
    "# We rank franchises first by rating, then by earnings, both in descending order.\n"
   ]
  },
  {
   "cell_type": "markdown",
   "id": "e0bb73cc",
   "metadata": {},
   "source": [
    "Advanced Examples\n"
   ]
  },
  {
   "cell_type": "markdown",
   "id": "bd30c845",
   "metadata": {},
   "source": [
    "1. Sorting Marvel Characters by Multiple Attributes\n"
   ]
  },
  {
   "cell_type": "code",
   "execution_count": null,
   "id": "17315e61",
   "metadata": {},
   "outputs": [],
   "source": [
    "from operator import attrgetter\n",
    "from collections import namedtuple\n",
    "\n",
    "# Define a namedtuple for Marvel characters\n",
    "Character = namedtuple('Character', ['name', 'alter_ego', 'power_level', 'intelligence', 'speed'])\n",
    "\n",
    "# Create a list of Marvel characters\n",
    "marvel_characters = [\n",
    "    Character(\"Spider-Man\", \"Peter Parker\", 85, 95, 90),\n",
    "    Character(\"Iron Man\", \"Tony Stark\", 80, 100, 70),\n",
    "    Character(\"Black Widow\", \"Natasha Romanoff\", 75, 90, 85),\n",
    "    Character(\"Thor\", \"Thor Odinson\", 95, 80, 88),\n",
    "    Character(\"Captain America\", \"Steve Rogers\", 88, 85, 87)\n",
    "]\n",
    "\n",
    "# Sort characters by power level (descending), then intelligence, then speed\n",
    "sorted_characters = sorted(marvel_characters, \n",
    "                           key=attrgetter('power_level', 'intelligence', 'speed'), \n",
    "                           reverse=True)\n",
    "\n",
    "print(\"Sorted Marvel Characters:\")\n",
    "for char in sorted_characters:\n",
    "    print(f\"{char.name} (Alter Ego: {char.alter_ego}):\")\n",
    "    print(f\"  Power Level: {char.power_level}\")\n",
    "    print(f\"  Intelligence: {char.intelligence}\")\n",
    "    print(f\"  Speed: {char.speed}\")\n",
    "    print()\n",
    "\n",
    "# This advanced example uses namedtuples and the attrgetter function.\n",
    "# We sort by multiple attributes in a specific order of priority.\n"
   ]
  },
  {
   "cell_type": "markdown",
   "id": "c848c9ae",
   "metadata": {},
   "source": [
    "2. Time Lord Regeneration Sorter\n"
   ]
  },
  {
   "cell_type": "code",
   "execution_count": null,
   "id": "66f9576e",
   "metadata": {},
   "outputs": [],
   "source": [
    "import re\n",
    "from datetime import datetime\n",
    "\n",
    "# Sort Doctor Who incarnations by era and regeneration energy\n",
    "doctors = [\n",
    "    \"Thirteenth Doctor (Jodie Whittaker) - 2017 - Energy: 89%\",\n",
    "    \"First Doctor (William Hartnell) - 1963 - Energy: 95%\",\n",
    "    \"Tenth Doctor (David Tennant) - 2005 - Energy: 92%\",\n",
    "    \"Fourth Doctor (Tom Baker) - 1974 - Energy: 88%\",\n",
    "    \"War Doctor (John Hurt) - 2013 - Energy: 97%\"\n",
    "]\n",
    "\n",
    "def extract_info(doctor_string):\n",
    "    match = re.match(r\"(\\w+) Doctor .* - (\\d{4}) - Energy: (\\d+)%\", doctor_string)\n",
    "    if match:\n",
    "        ordinal, year, energy = match.groups()\n",
    "        return (datetime.strptime(year, \"%Y\"), \n",
    "                [\"First\", \"Second\", \"Third\", \"Fourth\", \"Fifth\", \"Sixth\", \"Seventh\", \"Eighth\", \"Ninth\", \"Tenth\", \"Eleventh\", \"Twelfth\", \"Thirteenth\"].index(ordinal), \n",
    "                int(energy))\n",
    "    return (datetime.min, -1, 0)\n",
    "\n",
    "sorted_doctors = sorted(doctors, key=extract_info)\n",
    "\n",
    "print(\"Sorted Doctor Who Incarnations:\")\n",
    "for doctor in sorted_doctors:\n",
    "    print(doctor)\n",
    "\n",
    "# This advanced example uses regular expressions and custom sorting logic.\n",
    "# We extract information from strings and sort based on multiple criteria.\n"
   ]
  },
  {
   "cell_type": "markdown",
   "id": "a22f9950",
   "metadata": {},
   "source": [
    "3. Multiversal Rick Sorter\n"
   ]
  },
  {
   "cell_type": "code",
   "execution_count": null,
   "id": "8761b4e2",
   "metadata": {},
   "outputs": [],
   "source": [
    "import random\n",
    "\n",
    "# Generate and sort Ricks from different dimensions in Rick and Morty\n",
    "dimensions = [\"C-137\", \"J19ζ7\", \"35-C\", \"K-83\", \"D-99\", \"Pizza\"]\n",
    "attributes = [\"intelligence\", \"morality\", \"alcoholism\", \"scientific_knowledge\"]\n",
    "\n",
    "def generate_rick(dimension):\n",
    "    return {\n",
    "        \"dimension\": dimension,\n",
    "        \"intelligence\": random.randint(60, 100),\n",
    "        \"morality\": random.randint(0, 100),\n",
    "        \"alcoholism\": random.randint(50, 100),\n",
    "        \"scientific_knowledge\": random.randint(70, 100)\n",
    "    }\n",
    "\n",
    "ricks = [generate_rick(dim) for dim in dimensions]\n",
    "\n",
    "def rick_sort_key(rick):\n",
    "    return (\n",
    "        -rick[\"intelligence\"],\n",
    "        -rick[\"scientific_knowledge\"],\n",
    "        rick[\"morality\"],\n",
    "        -rick[\"alcoholism\"]\n",
    "    )\n",
    "\n",
    "sorted_ricks = sorted(ricks, key=rick_sort_key)\n",
    "\n",
    "print(\"Sorted Multiverse Ricks:\")\n",
    "for rick in sorted_ricks:\n",
    "    print(f\"Rick from Dimension {rick['dimension']}:\")\n",
    "    for attr in attributes:\n",
    "        print(f\"  {attr.capitalize()}: {rick[attr]}\")\n",
    "    print()\n",
    "\n",
    "# This advanced example generates random data and uses a complex sorting function.\n",
    "# We sort Ricks based on multiple attributes with different priorities and directions.\n"
   ]
  },
  {
   "cell_type": "markdown",
   "id": "90ccd000",
   "metadata": {},
   "source": [
    "Very Advanced Example\n"
   ]
  },
  {
   "cell_type": "markdown",
   "id": "97278326",
   "metadata": {},
   "source": [
    "1. Infinity Stone Power Balancer\n"
   ]
  },
  {
   "cell_type": "code",
   "execution_count": null,
   "id": "2a00a48c",
   "metadata": {},
   "outputs": [],
   "source": [
    "import random\n",
    "from functools import cmp_to_key\n",
    "\n",
    "# Simulate balancing the power of the Infinity Stones\n",
    "stones = [\"Space\", \"Reality\", \"Power\", \"Mind\", \"Time\", \"Soul\"]\n",
    "\n",
    "class InfinityStone:\n",
    "    def __init__(self, name):\n",
    "        self.name = name\n",
    "        self.power = random.randint(80, 100)\n",
    "        self.instability = random.randint(1, 20)\n",
    "        self.synergy = {stone: random.randint(1, 10) for stone in stones if stone != name}\n",
    "\n",
    "    def __repr__(self):\n",
    "        return f\"{self.name} Stone (Power: {self.power}, Instability: {self.instability})\"\n",
    "\n",
    "def stone_power_balance(stone1, stone2):\n",
    "    # Complex comparison logic\n",
    "    power_diff = stone2.power - stone1.power\n",
    "    instability_diff = stone1.instability - stone2.instability\n",
    "    synergy_diff = sum(stone2.synergy.values()) - sum(stone1.synergy.values())\n",
    "    \n",
    "    total_diff = power_diff + instability_diff + synergy_diff\n",
    "    \n",
    "    if abs(total_diff) < 5:  # Stones are relatively balanced\n",
    "        return random.choice([-1, 1])  # Random tiebreaker\n",
    "    return total_diff\n",
    "\n",
    "# Create Infinity Stones\n",
    "infinity_stones = [InfinityStone(name) for name in stones]\n",
    "\n",
    "# Sort stones based on the complex balance function\n",
    "balanced_stones = sorted(infinity_stones, key=cmp_to_key(stone_power_balance))\n",
    "\n",
    "print(\"Balanced Infinity Stones:\")\n",
    "for stone in balanced_stones:\n",
    "    print(stone)\n",
    "    print(f\"  Synergies: {stone.synergy}\")\n",
    "    print()\n",
    "\n",
    "# Calculate total power of the Infinity Gauntlet\n",
    "total_power = sum(stone.power for stone in balanced_stones)\n",
    "total_instability = sum(stone.instability for stone in balanced_stones)\n",
    "total_synergy = sum(sum(stone.synergy.values()) for stone in balanced_stones)\n",
    "\n",
    "print(f\"Infinity Gauntlet Stats:\")\n",
    "print(f\"Total Power: {total_power}\")\n",
    "print(f\"Total Instability: {total_instability}\")\n",
    "print(f\"Total Synergy: {total_synergy}\")\n",
    "print(f\"Balance Factor: {total_power + total_synergy - total_instability}\")\n",
    "\n",
    "# This very advanced example uses custom classes, complex comparison logic, and the cmp_to_key function.\n",
    "# We simulate balancing the Infinity Stones based on multiple interrelated factors.\n"
   ]
  },
  {
   "cell_type": "markdown",
   "id": "9118606f",
   "metadata": {},
   "source": [
    "Congratulations! You've mastered Python's sorted() function across various complexity levels.\n",
    "Keep exploring and may your code always be perfectly sorted!"
   ]
  }
 ],
 "metadata": {},
 "nbformat": 4,
 "nbformat_minor": 5
}
