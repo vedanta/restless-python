{
 "cells": [
  {
   "cell_type": "markdown",
   "id": "fe7a53aa",
   "metadata": {},
   "source": [
    "Lambda Function Exercises\n",
    "\n",
    "This notebook contains exercises to practice lambda functions in Python, ranging from simple to very advanced levels.\n"
   ]
  },
  {
   "cell_type": "markdown",
   "id": "135411ee",
   "metadata": {},
   "source": [
    "Simple Examples\n"
   ]
  },
  {
   "cell_type": "code",
   "execution_count": null,
   "id": "6a35f805",
   "metadata": {},
   "outputs": [],
   "source": [
    "# DESCRIPTION: Simple lambda function examples\n",
    "\n",
    "# Example 1: Square a number\n",
    "square = lambda x: x**2\n",
    "print(square(5))  # Output: 25\n",
    "\n",
    "# Example 2: Add two numbers\n",
    "add = lambda x, y: x + y\n",
    "print(add(3, 4))  # Output: 7\n",
    "\n",
    "# Example 3: Check if a number is even\n",
    "is_even = lambda x: x % 2 == 0\n",
    "print(is_even(6))  # Output: True\n",
    "print(is_even(7))  # Output: False\n"
   ]
  },
  {
   "cell_type": "markdown",
   "id": "8417c54e",
   "metadata": {},
   "source": [
    "Intermediate Examples\n"
   ]
  },
  {
   "cell_type": "code",
   "execution_count": null,
   "id": "115568e0",
   "metadata": {},
   "outputs": [],
   "source": [
    "# DESCRIPTION: Intermediate lambda function examples\n",
    "\n",
    "# Example 1: Sort a list of tuples based on the second element\n",
    "pairs = [(1, 'one'), (3, 'three'), (2, 'two'), (4, 'four')]\n",
    "sorted_pairs = sorted(pairs, key=lambda x: x[1])\n",
    "print(sorted_pairs)  # Output: [(4, 'four'), (1, 'one'), (3, 'three'), (2, 'two')]\n",
    "\n",
    "# Example 2: Filter out odd numbers from a list\n",
    "numbers = [1, 2, 3, 4, 5, 6, 7, 8, 9, 10]\n",
    "even_numbers = list(filter(lambda x: x % 2 == 0, numbers))\n",
    "print(even_numbers)  # Output: [2, 4, 6, 8, 10]\n",
    "\n",
    "# Example 3: Map a list of temperatures from Celsius to Fahrenheit\n",
    "celsius = [0, 10, 20, 30, 40]\n",
    "fahrenheit = list(map(lambda x: (x * 9/5) + 32, celsius))\n",
    "print(fahrenheit)  # Output: [32.0, 50.0, 68.0, 86.0, 104.0]\n"
   ]
  },
  {
   "cell_type": "markdown",
   "id": "4db17bb3",
   "metadata": {},
   "source": [
    "Advanced Examples\n"
   ]
  },
  {
   "cell_type": "code",
   "execution_count": null,
   "id": "2810535e",
   "metadata": {},
   "outputs": [],
   "source": [
    "# DESCRIPTION: Advanced lambda function examples\n",
    "\n",
    "from functools import reduce\n",
    "\n",
    "# Example 1: Use reduce with a lambda function to find the product of a list\n",
    "numbers = [1, 2, 3, 4, 5]\n",
    "product = reduce(lambda x, y: x * y, numbers)\n",
    "print(product)  # Output: 120\n",
    "\n",
    "# Example 2: Create a closure with a lambda function\n",
    "def multiplier(n):\n",
    "    return lambda x: x * n\n",
    "\n",
    "double = multiplier(2)\n",
    "triple = multiplier(3)\n",
    "print(double(5))  # Output: 10\n",
    "print(triple(5))  # Output: 15\n",
    "\n",
    "# Example 3: Use a lambda function with sorted() and a custom key\n",
    "words = ['apple', 'banana', 'cherry', 'date']\n",
    "sorted_words = sorted(words, key=lambda x: (len(x), x))\n",
    "print(sorted_words)  # Output: ['date', 'apple', 'banana', 'cherry']\n"
   ]
  },
  {
   "cell_type": "markdown",
   "id": "3267d1a1",
   "metadata": {},
   "source": [
    "Very Advanced Examples\n"
   ]
  },
  {
   "cell_type": "code",
   "execution_count": null,
   "id": "d9777391",
   "metadata": {},
   "outputs": [],
   "source": [
    "# DESCRIPTION: Very advanced lambda function examples\n",
    "\n",
    "import operator\n",
    "\n",
    "# Example 1: Create a simple calculator using a dictionary of lambda functions\n",
    "calc = {\n",
    "    '+': lambda x, y: x + y,\n",
    "    '-': lambda x, y: x - y,\n",
    "    '*': lambda x, y: x * y,\n",
    "    '/': lambda x, y: x / y if y != 0 else \"Error: Division by zero\"\n",
    "}\n",
    "\n",
    "print(calc['+'](5, 3))  # Output: 8\n",
    "print(calc['*'](4, 7))  # Output: 28\n",
    "\n",
    "# Example 2: Implement a basic currying function using lambda\n",
    "def curry(func):\n",
    "    return lambda x: lambda y: func(x, y)\n",
    "\n",
    "add = curry(operator.add)\n",
    "add_five = add(5)\n",
    "print(add_five(3))  # Output: 8\n",
    "\n",
    "# Example 3: Create a decorator using lambda functions\n",
    "def debug(func):\n",
    "    return lambda *args, **kwargs: print(f\"Calling {func.__name__}\") or func(*args, **kwargs)\n",
    "\n",
    "@debug\n",
    "def greet(name):\n",
    "    return f\"Hello, {name}!\"\n",
    "\n",
    "print(greet(\"Alice\"))  # Output: Calling greet \\n Hello, Alice!"
   ]
  }
 ],
 "metadata": {},
 "nbformat": 4,
 "nbformat_minor": 5
}
