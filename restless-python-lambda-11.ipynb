{
 "cells": [
  {
   "cell_type": "markdown",
   "id": "78dd5e67",
   "metadata": {},
   "source": [
    "# Description\n",
    "\n",
    "This notebook demonstrates how to use Python with AWS Lambda."
   ]
  },
  {
   "cell_type": "markdown",
   "id": "b85e5404",
   "metadata": {},
   "source": [
    "Lambda Function Exercises\n",
    "\n",
    "Welcome to your daily Python warm-up! Today, we're focusing on lambda functions. These exercises will help you understand and remember how to use lambda functions effectively. Let's dive in!\n"
   ]
  },
  {
   "cell_type": "code",
   "execution_count": null,
   "id": "013a2309",
   "metadata": {},
   "outputs": [],
   "source": [
    "# Simple: Create a lambda function to square a number\n",
    "square = lambda x: x**2\n",
    "print(f\"The square of 5 is: {square(5)}\")\n"
   ]
  },
  {
   "cell_type": "markdown",
   "id": "29ea80ab",
   "metadata": {},
   "source": [
    "Great! You've created your first lambda function. Lambda functions are small, anonymous functions that can have any number of arguments but can only have one expression. They're perfect for simple operations.\n"
   ]
  },
  {
   "cell_type": "code",
   "execution_count": null,
   "id": "2e72bda9",
   "metadata": {},
   "outputs": [],
   "source": [
    "# Intermediate: Use a lambda function with built-in functions like map()\n",
    "numbers = [1, 2, 3, 4, 5]\n",
    "squared_numbers = list(map(lambda x: x**2, numbers))\n",
    "print(f\"Original numbers: {numbers}\")\n",
    "print(f\"Squared numbers: {squared_numbers}\")\n"
   ]
  },
  {
   "cell_type": "markdown",
   "id": "a3ca99b8",
   "metadata": {},
   "source": [
    "In this example, we used a lambda function with `map()` to square each number in a list. This is a common use case for lambda functions.\n"
   ]
  },
  {
   "cell_type": "code",
   "execution_count": null,
   "id": "b5d362e2",
   "metadata": {},
   "outputs": [],
   "source": [
    "# Advanced: Create a lambda function to sort a list of tuples based on the second element\n",
    "fruits = [(\"apple\", 5), (\"banana\", 2), (\"cherry\", 8), (\"date\", 1)]\n",
    "sorted_fruits = sorted(fruits, key=lambda x: x[1])\n",
    "print(f\"Original fruit list: {fruits}\")\n",
    "print(f\"Sorted fruit list: {sorted_fruits}\")\n"
   ]
  },
  {
   "cell_type": "markdown",
   "id": "695d589c",
   "metadata": {},
   "source": [
    "Here, we used a lambda function as the `key` for sorting. This allows us to sort complex data structures based on specific elements.\n"
   ]
  },
  {
   "cell_type": "code",
   "execution_count": null,
   "id": "293a7c0f",
   "metadata": {},
   "outputs": [],
   "source": [
    "# Very Advanced: Implement a simple calculator using lambda functions and a dictionary\n",
    "operations = {\n",
    "    '+': lambda x, y: x + y,\n",
    "    '-': lambda x, y: x - y,\n",
    "    '*': lambda x, y: x * y,\n",
    "    '/': lambda x, y: x / y if y != 0 else \"Error: Division by zero\"\n",
    "}\n",
    "\n",
    "def calculator(op, x, y):\n",
    "    return operations.get(op, lambda: \"Invalid operation\")(x, y)\n",
    "\n",
    "print(f\"5 + 3 = {calculator('+', 5, 3)}\")\n",
    "print(f\"10 - 7 = {calculator('-', 10, 7)}\")\n",
    "print(f\"4 * 6 = {calculator('*', 4, 6)}\")\n",
    "print(f\"15 / 3 = {calculator('/', 15, 3)}\")\n",
    "print(f\"10 / 0 = {calculator('/', 10, 0)}\")\n"
   ]
  },
  {
   "cell_type": "markdown",
   "id": "a91585ea",
   "metadata": {},
   "source": [
    "In this advanced example, we created a simple calculator using a dictionary of lambda functions. This demonstrates how lambda functions can be used to create flexible and extensible code.\n"
   ]
  },
  {
   "cell_type": "code",
   "execution_count": null,
   "id": "76a333da",
   "metadata": {},
   "outputs": [],
   "source": [
    "# Fun Exercise: Create a list of your favorite movies and their release years, then sort them by year\n",
    "movies = [\n",
    "    (\"The Matrix\", 1999),\n",
    "    (\"Inception\", 2010),\n",
    "    (\"Pulp Fiction\", 1994),\n",
    "    (\"The Shawshank Redemption\", 1994),\n",
    "    (\"Avengers: Endgame\", 2019)\n",
    "]\n",
    "\n",
    "sorted_movies = sorted(movies, key=lambda movie: movie[1])\n",
    "for movie, year in sorted_movies:\n",
    "    print(f\"{movie} was released in {year}\")\n"
   ]
  },
  {
   "cell_type": "markdown",
   "id": "63f2da5a",
   "metadata": {},
   "source": [
    "This exercise combines what you've learned about lambda functions with a fun, real-world example. You can easily modify this to use your own favorite movies!\n"
   ]
  },
  {
   "cell_type": "code",
   "execution_count": null,
   "id": "f7920e5e",
   "metadata": {},
   "outputs": [],
   "source": [
    "# Challenge: Create a lambda function to find palindromes in a list of words\n",
    "words = [\"level\", \"python\", \"radar\", \"lambda\", \"madam\", \"function\"]\n",
    "palindromes = list(filter(lambda word: word == word[::-1], words))\n",
    "print(f\"Original words: {words}\")\n",
    "print(f\"Palindromes: {palindromes}\")\n"
   ]
  },
  {
   "cell_type": "markdown",
   "id": "e1634212",
   "metadata": {},
   "source": [
    "In this final challenge, we used a lambda function with `filter()` to find palindromes. The lambda function checks if a word is equal to its reverse.\n",
    "\n",
    "Remember to practice these exercises regularly to reinforce your understanding of lambda functions. Happy coding!"
   ]
  }
 ],
 "metadata": {},
 "nbformat": 4,
 "nbformat_minor": 5
}
