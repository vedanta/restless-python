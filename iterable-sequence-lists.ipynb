{
 "cells": [
  {
   "cell_type": "markdown",
   "id": "eda26d8e",
   "metadata": {},
   "source": [
    "# Description\n",
    "\n",
    "Explore Python lists through pop culture examples, from simple operations to advanced techniques."
   ]
  },
  {
   "cell_type": "markdown",
   "id": "aa7346e2",
   "metadata": {},
   "source": [
    "Python Lists: From Simple to Advanced\n",
    "\n",
    "Let's dive into Python lists with fun examples inspired by pop culture, music, movies, and more!\n"
   ]
  },
  {
   "cell_type": "markdown",
   "id": "390c0c7c",
   "metadata": {},
   "source": [
    "Very Simple Examples\n"
   ]
  },
  {
   "cell_type": "markdown",
   "id": "6ca4eb7d",
   "metadata": {},
   "source": [
    "1. Creating a List of Avengers\n"
   ]
  },
  {
   "cell_type": "code",
   "execution_count": null,
   "id": "7f9cca87",
   "metadata": {},
   "outputs": [],
   "source": [
    "# Create a list of Avengers\n",
    "avengers = [\"Iron Man\", \"Captain America\", \"Thor\", \"Hulk\", \"Black Widow\", \"Hawkeye\"]\n",
    "\n",
    "print(\"Original Avengers team:\", avengers)\n",
    "print(\"Number of Avengers:\", len(avengers))\n",
    "\n",
    "# This example shows how to create a list and use the len() function to get its length.\n"
   ]
  },
  {
   "cell_type": "markdown",
   "id": "e6c1df2a",
   "metadata": {},
   "source": [
    "2. Accessing Hogwarts Houses\n"
   ]
  },
  {
   "cell_type": "code",
   "execution_count": null,
   "id": "b35f68f6",
   "metadata": {},
   "outputs": [],
   "source": [
    "# Access elements in a list of Hogwarts houses\n",
    "hogwarts_houses = [\"Gryffindor\", \"Hufflepuff\", \"Ravenclaw\", \"Slytherin\"]\n",
    "\n",
    "print(\"First house:\", hogwarts_houses[0])\n",
    "print(\"Last house:\", hogwarts_houses[-1])\n",
    "\n",
    "# This demonstrates how to access list elements using positive and negative indices.\n"
   ]
  },
  {
   "cell_type": "markdown",
   "id": "90a71525",
   "metadata": {},
   "source": [
    "3. Adding Pokémon to a List\n"
   ]
  },
  {
   "cell_type": "code",
   "execution_count": null,
   "id": "68b13571",
   "metadata": {},
   "outputs": [],
   "source": [
    "# Add Pokémon to a list\n",
    "pokemon = [\"Pikachu\", \"Charizard\", \"Bulbasaur\"]\n",
    "print(\"Initial Pokémon:\", pokemon)\n",
    "\n",
    "pokemon.append(\"Squirtle\")\n",
    "print(\"After appending Squirtle:\", pokemon)\n",
    "\n",
    "pokemon.insert(1, \"Gengar\")\n",
    "print(\"After inserting Gengar at index 1:\", pokemon)\n",
    "\n",
    "# This example shows how to add elements to a list using append() and insert() methods.\n"
   ]
  },
  {
   "cell_type": "markdown",
   "id": "2295157c",
   "metadata": {},
   "source": [
    "Simple Examples\n"
   ]
  },
  {
   "cell_type": "markdown",
   "id": "6ca4777f",
   "metadata": {},
   "source": [
    "1. Removing Star Wars Planets\n"
   ]
  },
  {
   "cell_type": "code",
   "execution_count": null,
   "id": "a4eeba67",
   "metadata": {},
   "outputs": [],
   "source": [
    "# Remove planets from a list of Star Wars locations\n",
    "planets = [\"Tatooine\", \"Hoth\", \"Dagobah\", \"Endor\", \"Naboo\", \"Coruscant\", \"Kamino\"]\n",
    "print(\"Original planets:\", planets)\n",
    "\n",
    "# Remove the last planet\n",
    "removed_planet = planets.pop()\n",
    "print(\"Removed planet:\", removed_planet)\n",
    "print(\"Planets after pop():\", planets)\n",
    "\n",
    "# Remove a specific planet\n",
    "planets.remove(\"Hoth\")\n",
    "print(\"Planets after removing Hoth:\", planets)\n",
    "\n",
    "# Remove a planet by index\n",
    "del planets[1]\n",
    "print(\"Planets after deleting index 1:\", planets)\n",
    "\n",
    "# This example demonstrates different ways to remove elements from a list.\n"
   ]
  },
  {
   "cell_type": "markdown",
   "id": "551533b9",
   "metadata": {},
   "source": [
    "2. Slicing Jurassic Park Dinosaurs\n"
   ]
  },
  {
   "cell_type": "code",
   "execution_count": null,
   "id": "f846b8da",
   "metadata": {},
   "outputs": [],
   "source": [
    "# Slice a list of Jurassic Park dinosaurs\n",
    "dinosaurs = [\"Tyrannosaurus\", \"Velociraptor\", \"Brachiosaurus\", \"Triceratops\", \"Dilophosaurus\", \"Pteranodon\"]\n",
    "\n",
    "print(\"All dinosaurs:\", dinosaurs)\n",
    "print(\"First three dinosaurs:\", dinosaurs[:3])\n",
    "print(\"Last two dinosaurs:\", dinosaurs[-2:])\n",
    "print(\"Every other dinosaur:\", dinosaurs[::2])\n",
    "\n",
    "# This shows how to use list slicing to extract portions of a list.\n"
   ]
  },
  {
   "cell_type": "markdown",
   "id": "2cf2a00e",
   "metadata": {},
   "source": [
    "3. Modifying Marvel Superhero Teams\n"
   ]
  },
  {
   "cell_type": "code",
   "execution_count": null,
   "id": "6e3ac0c1",
   "metadata": {},
   "outputs": [],
   "source": [
    "# Modify lists of Marvel superhero teams\n",
    "avengers = [\"Iron Man\", \"Thor\", \"Hulk\"]\n",
    "guardians = [\"Star-Lord\", \"Gamora\", \"Drax\", \"Rocket\", \"Groot\"]\n",
    "\n",
    "# Combine teams\n",
    "all_heroes = avengers + guardians\n",
    "print(\"Combined team:\", all_heroes)\n",
    "\n",
    "# Create copies\n",
    "avengers_copy = avengers.copy()\n",
    "guardians_copy = guardians[:]\n",
    "\n",
    "# Modify copies\n",
    "avengers_copy.extend([\"Black Widow\", \"Hawkeye\"])\n",
    "guardians_copy[0] = \"Peter Quill\"\n",
    "\n",
    "print(\"Modified Avengers copy:\", avengers_copy)\n",
    "print(\"Modified Guardians copy:\", guardians_copy)\n",
    "print(\"Original Avengers (unchanged):\", avengers)\n",
    "print(\"Original Guardians (unchanged):\", guardians)\n",
    "\n",
    "# This example shows list concatenation, copying, and modification.\n"
   ]
  },
  {
   "cell_type": "markdown",
   "id": "c8fc3c5c",
   "metadata": {},
   "source": [
    "Intermediate Examples\n"
   ]
  },
  {
   "cell_type": "markdown",
   "id": "04e270da",
   "metadata": {},
   "source": [
    "1. Sorting and Reversing Lord of the Rings Characters\n"
   ]
  },
  {
   "cell_type": "code",
   "execution_count": null,
   "id": "654ff03f",
   "metadata": {},
   "outputs": [],
   "source": [
    "# Sort and reverse a list of Lord of the Rings characters\n",
    "characters = [\"Frodo\", \"Samwise\", \"Aragorn\", \"Legolas\", \"Gimli\", \"Gandalf\", \"Boromir\"]\n",
    "\n",
    "# Sort the list\n",
    "sorted_characters = sorted(characters)\n",
    "print(\"Sorted characters:\", sorted_characters)\n",
    "\n",
    "# Reverse the list\n",
    "characters.reverse()\n",
    "print(\"Reversed original list:\", characters)\n",
    "\n",
    "# Sort in reverse order\n",
    "reverse_sorted = sorted(characters, reverse=True)\n",
    "print(\"Reverse sorted:\", reverse_sorted)\n",
    "\n",
    "# This example demonstrates sorting and reversing lists.\n"
   ]
  },
  {
   "cell_type": "markdown",
   "id": "f73056bd",
   "metadata": {},
   "source": [
    "2. List Comprehension with Pokémon Types\n"
   ]
  },
  {
   "cell_type": "code",
   "execution_count": null,
   "id": "d3dc431b",
   "metadata": {},
   "outputs": [],
   "source": [
    "# Use list comprehension with Pokémon types\n",
    "pokemon_types = [\n",
    "    (\"Pikachu\", \"Electric\"),\n",
    "    (\"Charizard\", \"Fire/Flying\"),\n",
    "    (\"Bulbasaur\", \"Grass/Poison\"),\n",
    "    (\"Squirtle\", \"Water\"),\n",
    "    (\"Gengar\", \"Ghost/Poison\")\n",
    "]\n",
    "\n",
    "# Get all Pokémon names\n",
    "pokemon_names = [pokemon[0] for pokemon in pokemon_types]\n",
    "print(\"Pokémon names:\", pokemon_names)\n",
    "\n",
    "# Get Pokémon with multiple types\n",
    "multi_type_pokemon = [name for name, type in pokemon_types if \"/\" in type]\n",
    "print(\"Multi-type Pokémon:\", multi_type_pokemon)\n",
    "\n",
    "# This shows how to use list comprehensions for filtering and transforming data.\n"
   ]
  },
  {
   "cell_type": "markdown",
   "id": "571e9719",
   "metadata": {},
   "source": [
    "3. Nested Lists with Hogwarts Students\n"
   ]
  },
  {
   "cell_type": "code",
   "execution_count": null,
   "id": "1d896a97",
   "metadata": {},
   "outputs": [],
   "source": [
    "# Work with nested lists of Hogwarts students\n",
    "hogwarts_students = [\n",
    "    [\"Harry Potter\", \"Hermione Granger\", \"Ron Weasley\"],\n",
    "    [\"Draco Malfoy\", \"Vincent Crabbe\", \"Gregory Goyle\"],\n",
    "    [\"Luna Lovegood\", \"Cho Chang\", \"Cedric Diggory\"]\n",
    "]\n",
    "\n",
    "# Access nested elements\n",
    "print(\"First Gryffindor student:\", hogwarts_students[0][0])\n",
    "print(\"Last Ravenclaw/Hufflepuff student:\", hogwarts_students[2][-1])\n",
    "\n",
    "# Flatten the nested list\n",
    "all_students = [student for house in hogwarts_students for student in house]\n",
    "print(\"All students:\", all_students)\n",
    "\n",
    "# This demonstrates working with nested lists and flattening them.\n"
   ]
  },
  {
   "cell_type": "markdown",
   "id": "9cecf472",
   "metadata": {},
   "source": [
    "Advanced Examples\n"
   ]
  },
  {
   "cell_type": "markdown",
   "id": "e5e8b5bd",
   "metadata": {},
   "source": [
    "1. Custom Sorting with Star Wars Bounty Hunters\n"
   ]
  },
  {
   "cell_type": "code",
   "execution_count": null,
   "id": "3be630cb",
   "metadata": {},
   "outputs": [],
   "source": [
    "from operator import itemgetter\n",
    "\n",
    "# Custom sorting of Star Wars bounty hunters\n",
    "bounty_hunters = [\n",
    "    (\"Boba Fett\", 150000, 5),\n",
    "    (\"Bossk\", 120000, 3),\n",
    "    (\"Dengar\", 100000, 2),\n",
    "    (\"IG-88\", 140000, 4),\n",
    "    (\"Zuckuss\", 90000, 2)\n",
    "]\n",
    "\n",
    "# Sort by bounty (descending), then by reputation\n",
    "sorted_hunters = sorted(bounty_hunters, key=itemgetter(1, 2), reverse=True)\n",
    "\n",
    "print(\"Sorted Bounty Hunters:\")\n",
    "for hunter in sorted_hunters:\n",
    "    print(f\"{hunter[0]}: {hunter[1]} credits, {hunter[2]} star reputation\")\n",
    "\n",
    "# This shows advanced sorting using the itemgetter function.\n"
   ]
  },
  {
   "cell_type": "markdown",
   "id": "09a93aa2",
   "metadata": {},
   "source": [
    "2. List as a Stack and Queue (Time Travel Device)\n"
   ]
  },
  {
   "cell_type": "code",
   "execution_count": null,
   "id": "ebfc840e",
   "metadata": {},
   "outputs": [],
   "source": [
    "from collections import deque\n",
    "\n",
    "# Implement a time travel device using a list as a stack and a deque as a queue\n",
    "class TimeMachine:\n",
    "    def __init__(self):\n",
    "        self.past_events = []  # Stack for past events\n",
    "        self.future_events = deque()  # Queue for future events\n",
    "\n",
    "    def travel_to_past(self, event):\n",
    "        self.past_events.append(event)\n",
    "        print(f\"Traveled to: {event}\")\n",
    "\n",
    "    def return_to_present(self):\n",
    "        if self.past_events:\n",
    "            event = self.past_events.pop()\n",
    "            print(f\"Returned from: {event}\")\n",
    "        else:\n",
    "            print(\"Already in the present!\")\n",
    "\n",
    "    def schedule_future(self, event):\n",
    "        self.future_events.append(event)\n",
    "        print(f\"Scheduled future event: {event}\")\n",
    "\n",
    "    def travel_to_future(self):\n",
    "        if self.future_events:\n",
    "            event = self.future_events.popleft()\n",
    "            print(f\"Traveled to future event: {event}\")\n",
    "        else:\n",
    "            print(\"No future events scheduled!\")\n",
    "\n",
    "# Use the TimeMachine\n",
    "doctor_who = TimeMachine()\n",
    "\n",
    "doctor_who.travel_to_past(\"Ancient Rome\")\n",
    "doctor_who.travel_to_past(\"Jurassic Period\")\n",
    "doctor_who.return_to_present()\n",
    "doctor_who.schedule_future(\"Mars Colony\")\n",
    "doctor_who.schedule_future(\"Galactic Federation\")\n",
    "doctor_who.travel_to_future()\n",
    "\n",
    "# This advanced example uses a list as a stack and a deque as a queue to simulate a time machine.\n"
   ]
  },
  {
   "cell_type": "markdown",
   "id": "cf02f7f8",
   "metadata": {},
   "source": [
    "3. List Filtering and Mapping with Superhero Teams\n"
   ]
  },
  {
   "cell_type": "code",
   "execution_count": null,
   "id": "e01b6867",
   "metadata": {},
   "outputs": [],
   "source": [
    "# Filter and map operations on superhero teams\n",
    "heroes = [\n",
    "    {\"name\": \"Iron Man\", \"team\": \"Avengers\", \"power\": 85},\n",
    "    {\"name\": \"Black Widow\", \"team\": \"Avengers\", \"power\": 75},\n",
    "    {\"name\": \"Star-Lord\", \"team\": \"Guardians\", \"power\": 70},\n",
    "    {\"name\": \"Gamora\", \"team\": \"Guardians\", \"power\": 80},\n",
    "    {\"name\": \"Wolverine\", \"team\": \"X-Men\", \"power\": 90},\n",
    "    {\"name\": \"Storm\", \"team\": \"X-Men\", \"power\": 85}\n",
    "]\n",
    "\n",
    "# Filter Avengers\n",
    "avengers = list(filter(lambda h: h[\"team\"] == \"Avengers\", heroes))\n",
    "\n",
    "# Map to get names of powerful heroes\n",
    "powerful_heroes = list(map(lambda h: h[\"name\"], \n",
    "                           filter(lambda h: h[\"power\"] >= 85, heroes)))\n",
    "\n",
    "print(\"Avengers:\", [hero[\"name\"] for hero in avengers])\n",
    "print(\"Powerful heroes:\", powerful_heroes)\n",
    "\n",
    "# Combine filtering and mapping in a list comprehension\n",
    "powerful_non_avengers = [h[\"name\"] for h in heroes if h[\"power\"] >= 80 and h[\"team\"] != \"Avengers\"]\n",
    "print(\"Powerful non-Avengers:\", powerful_non_avengers)\n",
    "\n",
    "# This shows advanced list operations using filter(), map(), and list comprehensions.\n"
   ]
  },
  {
   "cell_type": "markdown",
   "id": "e29a8628",
   "metadata": {},
   "source": [
    "Very Advanced Example\n"
   ]
  },
  {
   "cell_type": "markdown",
   "id": "1d8f45b4",
   "metadata": {},
   "source": [
    "1. Multidimensional Lists with Sci-Fi Multiverse\n"
   ]
  },
  {
   "cell_type": "code",
   "execution_count": null,
   "id": "2ebb4ed5",
   "metadata": {},
   "outputs": [],
   "source": [
    "import random\n",
    "\n",
    "# Create a multidimensional list representing a sci-fi multiverse\n",
    "class SciFiMultiverse:\n",
    "    def __init__(self, dimensions, universes_per_dimension):\n",
    "        self.multiverse = [\n",
    "            [\n",
    "                [\n",
    "                    {\"id\": f\"D{d}U{u}P{p}\", \n",
    "                     \"technology\": random.randint(1, 100),\n",
    "                     \"magic\": random.randint(1, 100),\n",
    "                     \"aliens\": random.choice([True, False])}\n",
    "                    for p in range(5)  # 5 planets per universe\n",
    "                ]\n",
    "                for u in range(universes_per_dimension)\n",
    "            ]\n",
    "            for d in range(dimensions)\n",
    "        ]\n",
    "\n",
    "    def get_universe(self, dimension, universe):\n",
    "        return self.multiverse[dimension][universe]\n",
    "\n",
    "    def get_planet(self, dimension, universe, planet):\n",
    "        return self.multiverse[dimension][universe][planet]\n",
    "\n",
    "    def find_habitable_planets(self, min_tech, min_magic):\n",
    "        habitable = []\n",
    "        for d, dimension in enumerate(self.multiverse):\n",
    "            for u, universe in enumerate(dimension):\n",
    "                for p, planet in enumerate(universe):\n",
    "                    if planet[\"technology\"] >= min_tech and planet[\"magic\"] >= min_magic:\n",
    "                        habitable.append((d, u, p, planet))\n",
    "        return habitable\n",
    "\n",
    "    def alien_invasion(self, dimension, universe):\n",
    "        for planet in self.multiverse[dimension][universe]:\n",
    "            if planet[\"aliens\"]:\n",
    "                planet[\"technology\"] += 10\n",
    "                print(f\"Alien invasion on {planet['id']}! Technology increased.\")\n",
    "            else:\n",
    "                planet[\"magic\"] += 5\n",
    "                print(f\"Magical surge on {planet['id']}! Magic increased.\")\n",
    "\n",
    "# Use the SciFiMultiverse\n",
    "multiverse = SciFiMultiverse(dimensions=3, universes_per_dimension=2)\n",
    "\n",
    "# Find habitable planets\n",
    "habitable_planets = multiverse.find_habitable_planets(min_tech=70, min_magic=70)\n",
    "print(\"Habitable planets:\")\n",
    "for dimension, universe, planet, data in habitable_planets:\n",
    "    print(f\"Planet {data['id']}: Tech = {data['technology']}, Magic = {data['magic']}, Aliens = {data['aliens']}\")\n",
    "\n",
    "# Simulate an alien invasion\n",
    "print(\"\\nAlien Invasion in Dimension 1, Universe 0:\")\n",
    "multiverse.alien_invasion(1, 0)\n",
    "\n",
    "# Check the affected universe after the invasion\n",
    "affected_universe = multiverse.get_universe(1, 0)\n",
    "print(\"\\nAffected Universe after invasion:\")\n",
    "for planet in affected_universe:\n",
    "    print(f\"Planet {planet['id']}: Tech = {planet['technology']}, Magic = {planet['magic']}, Aliens = {planet['aliens']}\")\n",
    "\n",
    "# This very advanced example uses multidimensional lists to represent a complex sci-fi multiverse,\n",
    "# demonstrating nested list creation, accessing, and manipulation.\n"
   ]
  },
  {
   "cell_type": "markdown",
   "id": "de5d16bb",
   "metadata": {},
   "source": [
    "Congratulations! You've explored Python lists from simple operations to advanced multidimensional structures.\n",
    "Keep experimenting and may your lists always be filled with exciting adventures!"
   ]
  }
 ],
 "metadata": {},
 "nbformat": 4,
 "nbformat_minor": 5
}
