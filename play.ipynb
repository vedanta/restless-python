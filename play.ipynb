{
 "cells": [
  {
   "cell_type": "markdown",
   "id": "b4fa880b",
   "metadata": {},
   "source": [
    "# Description\n",
    "\n",
    ": A Blank Code Block to try out Python Code"
   ]
  },
  {
   "cell_type": "markdown",
   "id": "76cd96c3",
   "metadata": {},
   "source": [
    "Use this codeblock as a scratchpad for Python Code\n"
   ]
  },
  {
   "cell_type": "code",
   "execution_count": null,
   "id": "f65cb129",
   "metadata": {},
   "outputs": [],
   "source": [
    "print(\"Hello, World!\")  # Output: Hello, World!\n"
   ]
  }
 ],
 "metadata": {},
 "nbformat": 4,
 "nbformat_minor": 5
}
