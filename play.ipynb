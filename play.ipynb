{
 "cells": [
  {
   "cell_type": "markdown",
   "id": "d84c90e4",
   "metadata": {},
   "source": [
    "# Description\n",
    "\n",
    ": A Blank Code Block to try out Python Code"
   ]
  },
  {
   "cell_type": "markdown",
   "id": "706e2dfc",
   "metadata": {},
   "source": [
    "Use this codeblock as a scratchpad for Python Code\n"
   ]
  },
  {
   "cell_type": "code",
   "execution_count": null,
   "id": "a7ecfd39",
   "metadata": {},
   "outputs": [],
   "source": [
    "print(\"Hello, World!\")  # Output: Hello, World!\n"
   ]
  }
 ],
 "metadata": {},
 "nbformat": 4,
 "nbformat_minor": 5
}
