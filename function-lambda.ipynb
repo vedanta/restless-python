{
 "cells": [
  {
   "cell_type": "markdown",
   "id": "d150b96c",
   "metadata": {},
   "source": [
    "# Description\n",
    "\n",
    "Learn Python lambda functions through pop culture examples, from simple to advanced levels."
   ]
  },
  {
   "cell_type": "markdown",
   "id": "ffb6679b",
   "metadata": {},
   "source": [
    "Python Lambda Functions: From Simple to Advanced\n",
    "\n",
    "Let's explore Python lambda functions through fun examples inspired by pop culture, music, movies, and more!\n"
   ]
  },
  {
   "cell_type": "markdown",
   "id": "07265129",
   "metadata": {},
   "source": [
    "Very Simple Examples\n"
   ]
  },
  {
   "cell_type": "markdown",
   "id": "f52ef7c2",
   "metadata": {},
   "source": [
    "1. The Beatles Song Reverser\n"
   ]
  },
  {
   "cell_type": "code",
   "execution_count": null,
   "id": "08118acc",
   "metadata": {},
   "outputs": [],
   "source": [
    "# Simple lambda to reverse a Beatles song title\n",
    "reverse_song = lambda song: song[::-1]\n",
    "\n",
    "print(reverse_song(\"Hey Jude\"))\n",
    "print(reverse_song(\"Yellow Submarine\"))\n",
    "\n",
    "# This lambda function takes a song title and reverses it.\n",
    "# It uses string slicing with a step of -1 to reverse the string.\n"
   ]
  },
  {
   "cell_type": "markdown",
   "id": "81e832ed",
   "metadata": {},
   "source": [
    "2. Pac-Man Power Pellet Multiplier\n"
   ]
  },
  {
   "cell_type": "code",
   "execution_count": null,
   "id": "2a4c9f5f",
   "metadata": {},
   "outputs": [],
   "source": [
    "# Multiply Pac-Man's score when he eats a power pellet\n",
    "power_pellet_bonus = lambda score: score * 2\n",
    "\n",
    "print(power_pellet_bonus(100))\n",
    "print(power_pellet_bonus(50))\n",
    "\n",
    "# This lambda function doubles Pac-Man's score when he eats a power pellet.\n",
    "# It takes the current score and multiplies it by 2.\n"
   ]
  },
  {
   "cell_type": "markdown",
   "id": "8c8cc8ed",
   "metadata": {},
   "source": [
    "3. Star Wars Lightsaber Color Checker\n"
   ]
  },
  {
   "cell_type": "code",
   "execution_count": null,
   "id": "6a342611",
   "metadata": {},
   "outputs": [],
   "source": [
    "# Check if a lightsaber color is associated with the Jedi\n",
    "is_jedi_color = lambda color: color.lower() in ['blue', 'green', 'purple']\n",
    "\n",
    "print(is_jedi_color(\"Blue\"))\n",
    "print(is_jedi_color(\"Red\"))\n",
    "\n",
    "# This lambda function checks if a given lightsaber color is typically associated with the Jedi.\n",
    "# It converts the input to lowercase and checks if it's in the list of Jedi colors.\n"
   ]
  },
  {
   "cell_type": "markdown",
   "id": "d4b1d241",
   "metadata": {},
   "source": [
    "Simple Examples\n"
   ]
  },
  {
   "cell_type": "markdown",
   "id": "ade7b753",
   "metadata": {},
   "source": [
    "1. Back to the Future Time Difference Calculator\n"
   ]
  },
  {
   "cell_type": "code",
   "execution_count": null,
   "id": "7a809fbc",
   "metadata": {},
   "outputs": [],
   "source": [
    "# Calculate the time difference in Back to the Future\n",
    "time_difference = lambda present, past: abs(present - past)\n",
    "\n",
    "print(time_difference(1985, 1955))\n",
    "print(time_difference(2015, 1985))\n",
    "\n",
    "# This lambda calculates the absolute time difference between two years.\n",
    "# It uses the abs() function to ensure the result is always positive.\n"
   ]
  },
  {
   "cell_type": "markdown",
   "id": "7421464a",
   "metadata": {},
   "source": [
    "2. Teenage Mutant Ninja Turtles Pizza Topping Counter\n"
   ]
  },
  {
   "cell_type": "code",
   "execution_count": null,
   "id": "9e0980ad",
   "metadata": {},
   "outputs": [],
   "source": [
    "# Count the number of toppings on a TMNT pizza\n",
    "topping_counter = lambda *toppings: len(toppings)\n",
    "\n",
    "print(topping_counter(\"pepperoni\", \"mushroom\", \"olive\"))\n",
    "print(topping_counter(\"cheese\", \"anchovies\"))\n",
    "\n",
    "# This lambda uses *args to accept any number of toppings and count them.\n",
    "# It simply returns the length of the tuple of toppings.\n"
   ]
  },
  {
   "cell_type": "markdown",
   "id": "5536bc06",
   "metadata": {},
   "source": [
    "3. Ghostbusters Proton Pack Charge Level\n"
   ]
  },
  {
   "cell_type": "code",
   "execution_count": null,
   "id": "ceeaf502",
   "metadata": {},
   "outputs": [],
   "source": [
    "# Calculate the charge level of a Ghostbusters proton pack\n",
    "charge_level = lambda time, rate: min(100, time * rate)\n",
    "\n",
    "print(charge_level(5, 15))\n",
    "print(charge_level(10, 12))\n",
    "\n",
    "# This lambda calculates the charge level based on time and rate, capped at 100%.\n",
    "# It uses the min() function to ensure the charge never exceeds 100%.\n"
   ]
  },
  {
   "cell_type": "markdown",
   "id": "83255f5d",
   "metadata": {},
   "source": [
    "Intermediate Examples\n"
   ]
  },
  {
   "cell_type": "markdown",
   "id": "6031793f",
   "metadata": {},
   "source": [
    "1. Matrix Pill Effectivity Calculator\n"
   ]
  },
  {
   "cell_type": "code",
   "execution_count": null,
   "id": "4bee50ff",
   "metadata": {},
   "outputs": [],
   "source": [
    "# Calculate the effectivity of red and blue pills from The Matrix\n",
    "pill_effect = lambda red, blue: (lambda x: x * 2 if red else x / 2 if blue else x)\n",
    "\n",
    "neo_power = pill_effect(True, False)\n",
    "print(neo_power(50))\n",
    "\n",
    "morpheus_power = pill_effect(False, True)\n",
    "print(morpheus_power(50))\n",
    "\n",
    "# This lambda creates another lambda function based on pill colors.\n",
    "# It doubles the value for red, halves for blue, and leaves unchanged otherwise.\n"
   ]
  },
  {
   "cell_type": "markdown",
   "id": "bc33f371",
   "metadata": {},
   "source": [
    "2. Jurassic Park DNA Sequence Matcher\n"
   ]
  },
  {
   "cell_type": "code",
   "execution_count": null,
   "id": "9c119f3f",
   "metadata": {},
   "outputs": [],
   "source": [
    "# Check if a DNA sequence matches a dinosaur species\n",
    "dna_matcher = lambda sequence: {\n",
    "    \"TGCA\": \"T-Rex\",\n",
    "    \"CAGT\": \"Velociraptor\",\n",
    "    \"ATGC\": \"Brachiosaurus\"\n",
    "}.get(sequence, \"Unknown\")\n",
    "\n",
    "print(dna_matcher(\"TGCA\"))\n",
    "print(dna_matcher(\"ATGC\"))\n",
    "print(dna_matcher(\"GGTT\"))\n",
    "\n",
    "# This lambda uses a dictionary to match DNA sequences to dinosaur species.\n",
    "# The .get() method returns \"Unknown\" if the sequence isn't found.\n"
   ]
  },
  {
   "cell_type": "markdown",
   "id": "c4653dd2",
   "metadata": {},
   "source": [
    "3. Star Trek Universal Translator\n"
   ]
  },
  {
   "cell_type": "code",
   "execution_count": null,
   "id": "12b0de60",
   "metadata": {},
   "outputs": [],
   "source": [
    "# Translate English to Star Trek alien languages\n",
    "universal_translator = lambda text, language: {\n",
    "    \"Klingon\": f\"tlhIngan Hol: {text}\",\n",
    "    \"Vulcan\": f\"Vulcan: {text.lower()}\",\n",
    "    \"Ferengi\": f\"Ferengi: {text.upper()}\"\n",
    "}.get(language, f\"Unknown language: {text}\")\n",
    "\n",
    "print(universal_translator(\"Hello\", \"Klingon\"))\n",
    "print(universal_translator(\"Live long and prosper\", \"Vulcan\"))\n",
    "print(universal_translator(\"Show me the money\", \"Ferengi\"))\n",
    "\n",
    "# This lambda simulates a universal translator using a dictionary.\n",
    "# It applies different text transformations based on the alien language.\n"
   ]
  },
  {
   "cell_type": "markdown",
   "id": "428da6d3",
   "metadata": {},
   "source": [
    "Advanced Examples\n"
   ]
  },
  {
   "cell_type": "markdown",
   "id": "5d662432",
   "metadata": {},
   "source": [
    "1. Inception Dream Level Calculator\n"
   ]
  },
  {
   "cell_type": "code",
   "execution_count": null,
   "id": "9b1e4b12",
   "metadata": {},
   "outputs": [],
   "source": [
    "import time\n",
    "\n",
    "# Calculate dream time dilation in Inception\n",
    "dream_time = lambda levels: (lambda real_time: \n",
    "                             real_time * 60**levels)\n",
    "\n",
    "level1 = dream_time(1)\n",
    "level2 = dream_time(2)\n",
    "level3 = dream_time(3)\n",
    "\n",
    "real_time = 5  # 5 minutes in real time\n",
    "print(f\"5 minutes in reality is:\")\n",
    "print(f\"Level 1 dream: {level1(real_time)} minutes\")\n",
    "print(f\"Level 2 dream: {level2(real_time)} minutes\")\n",
    "print(f\"Level 3 dream: {level3(real_time)} minutes\")\n",
    "\n",
    "# This lambda creates another lambda that calculates dream time based on levels.\n",
    "# It uses exponential time dilation as seen in the movie Inception.\n"
   ]
  },
  {
   "cell_type": "markdown",
   "id": "6f347c03",
   "metadata": {},
   "source": [
    "2. Marvel Cinematic Universe Timeline Sorter\n"
   ]
  },
  {
   "cell_type": "code",
   "execution_count": null,
   "id": "f9957ef2",
   "metadata": {},
   "outputs": [],
   "source": [
    "# Sort Marvel movies by in-universe chronological order\n",
    "mcu_sorter = lambda movies: sorted(movies, key=lambda movie: movie[1])\n",
    "\n",
    "mcu_movies = [\n",
    "    (\"Iron Man\", 2010),\n",
    "    (\"Captain America: The First Avenger\", 1942),\n",
    "    (\"Captain Marvel\", 1995),\n",
    "    (\"Black Widow\", 2020),\n",
    "    (\"Avengers: Endgame\", 2023)\n",
    "]\n",
    "\n",
    "sorted_movies = mcu_sorter(mcu_movies)\n",
    "for movie, year in sorted_movies:\n",
    "    print(f\"{movie}: {year}\")\n",
    "\n",
    "# This lambda uses the sorted() function with a key function to sort movies.\n",
    "# The key function is another lambda that extracts the year from each movie tuple.\n"
   ]
  },
  {
   "cell_type": "markdown",
   "id": "c3c2b914",
   "metadata": {},
   "source": [
    "3. Hogwarts House Points Calculator\n"
   ]
  },
  {
   "cell_type": "code",
   "execution_count": null,
   "id": "6600f757",
   "metadata": {},
   "outputs": [],
   "source": [
    "# Calculate and update Hogwarts house points\n",
    "house_points = {\"Gryffindor\": 0, \"Hufflepuff\": 0, \"Ravenclaw\": 0, \"Slytherin\": 0}\n",
    "\n",
    "update_points = lambda house, points: house_points.update({house: house_points.get(house, 0) + points}) or house_points\n",
    "\n",
    "print(update_points(\"Gryffindor\", 50))\n",
    "print(update_points(\"Slytherin\", 20))\n",
    "print(update_points(\"Gryffindor\", -10))\n",
    "print(update_points(\"Ravenclaw\", 30))\n",
    "\n",
    "# This lambda updates the house points and returns the updated dictionary.\n",
    "# It uses the or operator to return the dictionary after the update.\n"
   ]
  },
  {
   "cell_type": "markdown",
   "id": "1d5b863c",
   "metadata": {},
   "source": [
    "Very Advanced Examples\n"
   ]
  },
  {
   "cell_type": "markdown",
   "id": "3ef611fc",
   "metadata": {},
   "source": [
    "1. Rick and Morty Multiverse Channel Surfer\n"
   ]
  },
  {
   "cell_type": "code",
   "execution_count": null,
   "id": "185f4341",
   "metadata": {},
   "outputs": [],
   "source": [
    "import random\n",
    "\n",
    "# Simulate interdimensional cable surfing from Rick and Morty\n",
    "def generate_show():\n",
    "    adjectives = [\"Interdimensional\", \"Quantum\", \"Galactic\", \"Cyborg\", \"Alien\"]\n",
    "    nouns = [\"Adventures\", \"Cooking\", \"Wrestling\", \"Dating\", \"Court\"]\n",
    "    return f\"{random.choice(adjectives)} {random.choice(nouns)}\"\n",
    "\n",
    "channel_surfer = lambda n: (lambda: [generate_show() for _ in range(n)])\n",
    "\n",
    "surf_3_channels = channel_surfer(3)\n",
    "surf_5_channels = channel_surfer(5)\n",
    "\n",
    "print(\"Surfing 3 channels:\", surf_3_channels())\n",
    "print(\"Surfing 5 channels:\", surf_5_channels())\n",
    "\n",
    "# This advanced lambda creates another lambda that generates random TV shows.\n",
    "# It simulates the interdimensional cable from Rick and Morty.\n"
   ]
  },
  {
   "cell_type": "markdown",
   "id": "5e320354",
   "metadata": {},
   "source": [
    "2. Thanos Snap Universe Balancer\n"
   ]
  },
  {
   "cell_type": "code",
   "execution_count": null,
   "id": "31c472cb",
   "metadata": {},
   "outputs": [],
   "source": [
    "import random\n",
    "\n",
    "# Simulate Thanos' snap from Avengers: Infinity War\n",
    "universe = [\"Iron Man\", \"Captain America\", \"Thor\", \"Black Widow\", \"Hulk\", \"Hawkeye\", \n",
    "            \"Spider-Man\", \"Black Panther\", \"Doctor Strange\", \"Scarlet Witch\"]\n",
    "\n",
    "thanos_snap = (lambda population: \n",
    "               lambda: list(filter(lambda _: random.random() > 0.5, population)))\n",
    "\n",
    "balanced_universe = thanos_snap(universe)\n",
    "\n",
    "print(\"Before the snap:\", universe)\n",
    "print(\"After the snap:\", balanced_universe())\n",
    "\n",
    "# This lambda creates another lambda that simulates Thanos' snap.\n",
    "# It uses filter with a random condition to eliminate half the population.\n"
   ]
  },
  {
   "cell_type": "markdown",
   "id": "b35755b5",
   "metadata": {},
   "source": [
    "3. Doctor Who TARDIS Time-Space Coordinate Calculator\n"
   ]
  },
  {
   "cell_type": "code",
   "execution_count": null,
   "id": "5006514d",
   "metadata": {},
   "outputs": [],
   "source": [
    "from functools import reduce\n",
    "\n",
    "# Calculate TARDIS coordinates across time and space\n",
    "tardis_coordinates = lambda *trips: reduce(lambda acc, trip: \n",
    "                                           (acc[0] + trip[0], acc[1] + trip[1], \n",
    "                                            acc[2] + trip[2], acc[3] + trip[3]), \n",
    "                                           trips, (0, 0, 0, 0))\n",
    "\n",
    "# Each trip is (time_shift, x, y, z)\n",
    "gallifrey_trip = (10000, 5000, -3000, 8000)\n",
    "earth_2023_trip = (-9977, -4995, 3005, -7995)\n",
    "moon_landing_trip = (-54, -2, 1, -3)\n",
    "\n",
    "final_coordinates = tardis_coordinates(gallifrey_trip, earth_2023_trip, moon_landing_trip)\n",
    "print(f\"Final TARDIS coordinates (time, x, y, z): {final_coordinates}\")\n",
    "\n",
    "# This complex lambda uses reduce with another lambda to calculate cumulative coordinates.\n",
    "# It simulates the TARDIS traveling through time and space in Doctor Who.\n"
   ]
  },
  {
   "cell_type": "markdown",
   "id": "89a23510",
   "metadata": {},
   "source": [
    "Congratulations! You've mastered Python lambda functions across various complexity levels.\n",
    "Keep exploring and may the force of functional programming be with you!"
   ]
  }
 ],
 "metadata": {},
 "nbformat": 4,
 "nbformat_minor": 5
}
