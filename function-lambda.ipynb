{
 "cells": [
  {
   "cell_type": "markdown",
   "id": "30dd509c",
   "metadata": {},
   "source": [
    "# Description\n",
    "\n",
    ": Create a simple symbolic differentiation engine using lambda functions, inspired by sci-fi universal translators."
   ]
  },
  {
   "cell_type": "markdown",
   "id": "70db4083",
   "metadata": {},
   "source": [
    "Python Lambda Functions: From Novice to Jedi Master\n",
    "\n",
    "In this notebook, we'll explore Python lambda functions at various complexity levels, using fun examples inspired by pop culture, music, movies, food, travel, science, and space. Let's dive in!\n"
   ]
  },
  {
   "cell_type": "markdown",
   "id": "5ec5ee19",
   "metadata": {},
   "source": [
    "Very Simple Examples\n",
    "\n",
    "These examples demonstrate the basic syntax and usage of lambda functions.\n"
   ]
  },
  {
   "cell_type": "code",
   "execution_count": null,
   "id": "756b5a71",
   "metadata": {},
   "outputs": [],
   "source": [
    "# Example 1: Squaring numbers\n",
    "square = lambda x: x ** 2\n",
    "print(f\"Mario's power level: {square(3)}\")  # Output: 9\n",
    "\n",
    "# Example 2: Greeting function\n",
    "greet = lambda name: f\"E.T. says: Hello, {name}!\"\n",
    "print(greet(\"Elliott\"))  # Output: E.T. says: Hello, Elliott!\n",
    "\n",
    "# Example 3: Check if a number is even\n",
    "is_even = lambda x: x % 2 == 0\n",
    "print(f\"Is Eleven even? {is_even(11)}\")  # Output: False\n"
   ]
  },
  {
   "cell_type": "markdown",
   "id": "884e1b20",
   "metadata": {},
   "source": [
    "Simple Examples\n",
    "\n",
    "These examples show how lambda functions can be used with built-in functions.\n"
   ]
  },
  {
   "cell_type": "code",
   "execution_count": null,
   "id": "6dec6f32",
   "metadata": {},
   "outputs": [],
   "source": [
    "# Example 1: Sorting a list of tuples\n",
    "movies = [(\"Back to the Future\", 1985), (\"Jurassic Park\", 1993), (\"The Matrix\", 1999)]\n",
    "sorted_movies = sorted(movies, key=lambda movie: movie[1])\n",
    "print(\"Sorted movies:\", sorted_movies)\n",
    "\n",
    "# Example 2: Filtering a list\n",
    "numbers = [1, 2, 3, 4, 5, 6, 7, 8, 9]\n",
    "divisible_by_three = list(filter(lambda x: x % 3 == 0, numbers))\n",
    "print(\"Numbers divisible by three:\", divisible_by_three)\n",
    "\n",
    "# Example 3: Mapping temperature conversion\n",
    "celsius_temps = [0, 15, 30, 45]\n",
    "fahrenheit_temps = list(map(lambda c: (c * 9/5) + 32, celsius_temps))\n",
    "print(\"Fahrenheit temperatures:\", fahrenheit_temps)\n"
   ]
  },
  {
   "cell_type": "markdown",
   "id": "935f84a5",
   "metadata": {},
   "source": [
    "Intermediate Examples\n",
    "\n",
    "These examples demonstrate more complex uses of lambda functions.\n"
   ]
  },
  {
   "cell_type": "code",
   "execution_count": null,
   "id": "c2cbc7d4",
   "metadata": {},
   "outputs": [],
   "source": [
    "# Example 1: Custom sorting with multiple criteria\n",
    "songs = [\n",
    "    {\"title\": \"Bohemian Rhapsody\", \"artist\": \"Queen\", \"year\": 1975},\n",
    "    {\"title\": \"Smells Like Teen Spirit\", \"artist\": \"Nirvana\", \"year\": 1991},\n",
    "    {\"title\": \"Like a Prayer\", \"artist\": \"Madonna\", \"year\": 1989}\n",
    "]\n",
    "sorted_songs = sorted(songs, key=lambda song: (song[\"year\"], song[\"title\"]))\n",
    "print(\"Sorted songs:\", sorted_songs)\n",
    "\n",
    "# Example 2: Partial function application\n",
    "from functools import partial\n",
    "\n",
    "apply_discount = lambda price, discount: price * (1 - discount)\n",
    "twenty_percent_off = partial(apply_discount, discount=0.2)\n",
    "print(f\"Discounted game price: ${twenty_percent_off(50):.2f}\")\n",
    "\n",
    "# Example 3: Nested lambda functions\n",
    "def create_multiplier(factor):\n",
    "    return lambda x: x * factor\n",
    "\n",
    "double = create_multiplier(2)\n",
    "triple = create_multiplier(3)\n",
    "print(f\"Inception level 2: {double(5)}, level 3: {triple(5)}\")\n"
   ]
  },
  {
   "cell_type": "markdown",
   "id": "a2302f5d",
   "metadata": {},
   "source": [
    "Advanced Examples\n",
    "\n",
    "These examples show more sophisticated uses of lambda functions.\n"
   ]
  },
  {
   "cell_type": "code",
   "execution_count": null,
   "id": "ae904f2c",
   "metadata": {},
   "outputs": [],
   "source": [
    "# Example 1: Higher-order functions with lambdas\n",
    "compose = lambda f, g: lambda x: f(g(x))\n",
    "to_uppercase = lambda s: s.upper()\n",
    "add_exclamation = lambda s: s + \"!\"\n",
    "shout = compose(add_exclamation, to_uppercase)\n",
    "print(shout(\"i love python\"))  # Output: I LOVE PYTHON!\n",
    "\n",
    "# Example 2: Lambda with conditional expressions\n",
    "classify_planet = lambda radius, mass: \"Gas Giant\" if radius > 20000 and mass > 10 else \"Terrestrial\"\n",
    "print(f\"Earth classification: {classify_planet(6371, 1)}\")\n",
    "print(f\"Jupiter classification: {classify_planet(69911, 317.8)}\")\n",
    "\n",
    "# Example 3: Recursive lambda function\n",
    "fib = lambda n: n if n <= 1 else fib(n-1) + fib(n-2)\n",
    "print(f\"10th Fibonacci number: {fib(10)}\")\n"
   ]
  },
  {
   "cell_type": "markdown",
   "id": "dd8d5599",
   "metadata": {},
   "source": [
    "Very Advanced Examples\n",
    "\n",
    "These examples demonstrate highly sophisticated uses of lambda functions.\n"
   ]
  },
  {
   "cell_type": "code",
   "execution_count": null,
   "id": "8fe0eed4",
   "metadata": {},
   "outputs": [],
   "source": [
    "# Example 1: Y combinator for anonymous recursion\n",
    "Y = lambda f: (lambda x: x(x))(lambda y: f(lambda *args: y(y)(*args)))\n",
    "factorial = Y(lambda f: lambda n: 1 if n == 0 else n * f(n-1))\n",
    "print(f\"Factorial of 5: {factorial(5)}\")\n",
    "\n",
    "# Example 2: Currying with lambda functions\n",
    "curry = lambda f: lambda x: lambda y: lambda z: f(x, y, z)\n",
    "volume = curry(lambda l, w, h: l * w * h)\n",
    "print(f\"Volume of a 3x4x5 box: {volume(3)(4)(5)}\")\n",
    "\n",
    "# Example 3: Lambda-based mini-language\n",
    "from operator import add, mul\n",
    "\n",
    "def deriv(expr):\n",
    "    if isinstance(expr, (int, float)):\n",
    "        return lambda x: 0\n",
    "    elif isinstance(expr, str):\n",
    "        return lambda x: 1\n",
    "    elif isinstance(expr, tuple):\n",
    "        if expr[0] == add:\n",
    "            return lambda x: deriv(expr[1])(x) + deriv(expr[2])(x)\n",
    "        elif expr[0] == mul:\n",
    "            return lambda x: expr[1] * deriv(expr[2])(x) + expr[2] * deriv(expr[1])(x)\n",
    "\n",
    "expr = (mul, 3, (add, 'x', 5))\n",
    "derivative = deriv(expr)\n",
    "print(f\"Derivative of 3(x+5) at x=2: {derivative(2)}\")"
   ]
  }
 ],
 "metadata": {},
 "nbformat": 4,
 "nbformat_minor": 5
}
