{
 "cells": [
  {
   "cell_type": "markdown",
   "id": "92aee141",
   "metadata": {},
   "source": [
    "# Description\n",
    "\n",
    ": This program contains a series of exercises to practice lambda functions in Python"
   ]
  },
  {
   "cell_type": "markdown",
   "id": "a7d9ac75",
   "metadata": {},
   "source": [
    "Lambda Function Exercises\n",
    "\n",
    "This notebook contains exercises to practice lambda functions in Python, ranging from simple to very advanced levels. Each example includes detailed explanations to help you understand the concepts better.\n"
   ]
  },
  {
   "cell_type": "markdown",
   "id": "9b6d05fd",
   "metadata": {},
   "source": [
    "Simple Examples\n"
   ]
  },
  {
   "cell_type": "code",
   "execution_count": null,
   "id": "de848a42",
   "metadata": {},
   "outputs": [],
   "source": [
    "# Example 1: Square a number\n",
    "square = lambda x: x**2\n",
    "result = square(5)\n",
    "print(f\"The square of 5 is: {result}\")  # Output: The square of 5 is: 25\n",
    "\n",
    "# In this example, we define a lambda function that takes one argument 'x' and returns its square.\n",
    "# Lambda functions are anonymous functions that can be defined in a single line.\n",
    "# The syntax is: lambda arguments: expression\n"
   ]
  },
  {
   "cell_type": "code",
   "execution_count": null,
   "id": "07024134",
   "metadata": {},
   "outputs": [],
   "source": [
    "# Example 2: Add two numbers\n",
    "add = lambda x, y: x + y\n",
    "result = add(3, 4)\n",
    "print(f\"3 + 4 = {result}\")  # Output: 3 + 4 = 7\n",
    "\n",
    "# Here, we define a lambda function that takes two arguments 'x' and 'y' and returns their sum.\n",
    "# This demonstrates that lambda functions can take multiple arguments.\n"
   ]
  },
  {
   "cell_type": "code",
   "execution_count": null,
   "id": "3a78032f",
   "metadata": {},
   "outputs": [],
   "source": [
    "# Example 3: Check if a number is even\n",
    "is_even = lambda x: x % 2 == 0\n",
    "print(f\"Is 6 even? {is_even(6)}\")  # Output: Is 6 even? True\n",
    "print(f\"Is 7 even? {is_even(7)}\")  # Output: Is 7 even? False\n",
    "\n",
    "# This lambda function uses the modulo operator (%) to check if a number is even.\n",
    "# It returns True if the number is even (divisible by 2 with no remainder) and False otherwise.\n"
   ]
  },
  {
   "cell_type": "markdown",
   "id": "624eb820",
   "metadata": {},
   "source": [
    "Intermediate Examples\n"
   ]
  },
  {
   "cell_type": "code",
   "execution_count": null,
   "id": "6190fadc",
   "metadata": {},
   "outputs": [],
   "source": [
    "# Example 1: Sort a list of tuples based on the second element\n",
    "pairs = [(1, 'one'), (3, 'three'), (2, 'two'), (4, 'four')]\n",
    "sorted_pairs = sorted(pairs, key=lambda x: x[1])\n",
    "print(f\"Sorted pairs: {sorted_pairs}\")\n",
    "# Output: Sorted pairs: [(4, 'four'), (1, 'one'), (3, 'three'), (2, 'two')]\n",
    "\n",
    "# Here, we use a lambda function as the 'key' argument in the sorted() function.\n",
    "# The lambda function returns the second element of each tuple (x[1]), which is used for sorting.\n",
    "# This demonstrates how lambda functions can be used with built-in functions like sorted().\n"
   ]
  },
  {
   "cell_type": "code",
   "execution_count": null,
   "id": "84c93b2f",
   "metadata": {},
   "outputs": [],
   "source": [
    "# Example 2: Filter out odd numbers from a list\n",
    "numbers = [1, 2, 3, 4, 5, 6, 7, 8, 9, 10]\n",
    "even_numbers = list(filter(lambda x: x % 2 == 0, numbers))\n",
    "print(f\"Even numbers: {even_numbers}\")  # Output: Even numbers: [2, 4, 6, 8, 10]\n",
    "\n",
    "# The filter() function applies the lambda function to each element in 'numbers'.\n",
    "# If the lambda function returns True (i.e., the number is even), the element is included in the result.\n",
    "# This shows how lambda functions can be used for filtering data.\n"
   ]
  },
  {
   "cell_type": "code",
   "execution_count": null,
   "id": "db6e5548",
   "metadata": {},
   "outputs": [],
   "source": [
    "# Example 3: Map a list of temperatures from Celsius to Fahrenheit\n",
    "celsius = [0, 10, 20, 30, 40]\n",
    "fahrenheit = list(map(lambda x: (x * 9/5) + 32, celsius))\n",
    "print(f\"Fahrenheit temperatures: {fahrenheit}\")\n",
    "# Output: Fahrenheit temperatures: [32.0, 50.0, 68.0, 86.0, 104.0]\n",
    "\n",
    "# The map() function applies the lambda function to each element in 'celsius'.\n",
    "# The lambda function converts Celsius to Fahrenheit using the formula (C * 9/5) + 32.\n",
    "# This demonstrates how lambda functions can be used to transform data.\n"
   ]
  },
  {
   "cell_type": "markdown",
   "id": "64020288",
   "metadata": {},
   "source": [
    "Advanced Examples\n"
   ]
  },
  {
   "cell_type": "code",
   "execution_count": null,
   "id": "d8c0c72a",
   "metadata": {},
   "outputs": [],
   "source": [
    "# Example 1: Use reduce with a lambda function to find the product of a list\n",
    "from functools import reduce\n",
    "\n",
    "numbers = [1, 2, 3, 4, 5]\n",
    "product = reduce(lambda x, y: x * y, numbers)\n",
    "print(f\"The product of {numbers} is: {product}\")  # Output: The product of [1, 2, 3, 4, 5] is: 120\n",
    "\n",
    "# The reduce() function applies the lambda function cumulatively to the items in 'numbers'.\n",
    "# It multiplies each element with the running product, effectively calculating the product of all numbers.\n",
    "# This shows how lambda functions can be used with more advanced functional programming concepts.\n"
   ]
  },
  {
   "cell_type": "code",
   "execution_count": null,
   "id": "7d65b7d1",
   "metadata": {},
   "outputs": [],
   "source": [
    "# Example 2: Create a closure with a lambda function\n",
    "def multiplier(n):\n",
    "    return lambda x: x * n\n",
    "\n",
    "double = multiplier(2)\n",
    "triple = multiplier(3)\n",
    "print(f\"Double of 5: {double(5)}\")  # Output: Double of 5: 10\n",
    "print(f\"Triple of 5: {triple(5)}\")  # Output: Triple of 5: 15\n",
    "\n",
    "# This example demonstrates how lambda functions can be used to create closures.\n",
    "# The multiplier() function returns a lambda function that remembers the value of 'n'.\n",
    "# This allows us to create specialized functions like 'double' and 'triple'.\n"
   ]
  },
  {
   "cell_type": "code",
   "execution_count": null,
   "id": "9c96ad15",
   "metadata": {},
   "outputs": [],
   "source": [
    "# Example 3: Use a lambda function with sorted() and a custom key\n",
    "words = ['apple', 'banana', 'cherry', 'date']\n",
    "sorted_words = sorted(words, key=lambda x: (len(x), x))\n",
    "print(f\"Sorted words: {sorted_words}\")  # Output: Sorted words: ['date', 'apple', 'banana', 'cherry']\n",
    "\n",
    "# This lambda function returns a tuple (len(x), x) for each word.\n",
    "# The sorted() function uses this tuple to sort the words first by length, then alphabetically.\n",
    "# This demonstrates how lambda functions can be used to create complex sorting criteria.\n"
   ]
  },
  {
   "cell_type": "markdown",
   "id": "63a40bbf",
   "metadata": {},
   "source": [
    "Very Advanced Examples\n"
   ]
  },
  {
   "cell_type": "code",
   "execution_count": null,
   "id": "40ff6382",
   "metadata": {},
   "outputs": [],
   "source": [
    "# Example 1: Create a simple calculator using a dictionary of lambda functions\n",
    "calc = {\n",
    "    '+': lambda x, y: x + y,\n",
    "    '-': lambda x, y: x - y,\n",
    "    '*': lambda x, y: x * y,\n",
    "    '/': lambda x, y: x / y if y != 0 else \"Error: Division by zero\"\n",
    "}\n",
    "\n",
    "print(f\"5 + 3 = {calc['+'](5, 3)}\")  # Output: 5 + 3 = 8\n",
    "print(f\"4 * 7 = {calc['*'](4, 7)}\")  # Output: 4 * 7 = 28\n",
    "\n",
    "# This example uses a dictionary to store lambda functions for basic arithmetic operations.\n",
    "# The lambda functions are used as values in the dictionary, allowing for dynamic function calls.\n",
    "# This demonstrates how lambda functions can be used to create flexible, extensible code structures.\n"
   ]
  },
  {
   "cell_type": "code",
   "execution_count": null,
   "id": "8eea9c32",
   "metadata": {},
   "outputs": [],
   "source": [
    "# Example 2: Implement a basic currying function using lambda\n",
    "import operator\n",
    "\n",
    "def curry(func):\n",
    "    return lambda x: lambda y: func(x, y)\n",
    "\n",
    "add = curry(operator.add)\n",
    "add_five = add(5)\n",
    "result = add_five(3)\n",
    "print(f\"5 + 3 = {result}\")  # Output: 5 + 3 = 8\n",
    "\n",
    "# This example demonstrates currying, an advanced functional programming technique.\n",
    "# The curry() function takes a two-argument function and returns a lambda function.\n",
    "# This lambda function, when called, returns another lambda function, allowing partial application of arguments.\n"
   ]
  },
  {
   "cell_type": "code",
   "execution_count": null,
   "id": "fa4a490d",
   "metadata": {},
   "outputs": [],
   "source": [
    "# Example 3: Create a decorator using lambda functions\n",
    "def debug(func):\n",
    "    return lambda *args, **kwargs: print(f\"Calling {func.__name__}\") or func(*args, **kwargs)\n",
    "\n",
    "@debug\n",
    "def greet(name):\n",
    "    return f\"Hello, {name}!\"\n",
    "\n",
    "result = greet(\"Alice\")\n",
    "print(result)\n",
    "# Output:\n",
    "# Calling greet\n",
    "# Hello, Alice!\n",
    "\n",
    "# This example uses a lambda function to create a decorator.\n",
    "# The debug decorator wraps the original function in a lambda function.\n",
    "# This lambda function prints a debug message and then calls the original function.\n",
    "# It demonstrates how lambda functions can be used in metaprogramming techniques like decorators."
   ]
  }
 ],
 "metadata": {},
 "nbformat": 4,
 "nbformat_minor": 5
}
